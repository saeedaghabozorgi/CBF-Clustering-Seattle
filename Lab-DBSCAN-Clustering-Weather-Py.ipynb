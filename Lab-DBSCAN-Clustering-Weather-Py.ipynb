{
    "metadata": {
        "kernelspec": {
            "name": "python2", 
            "display_name": "Python 2 with Spark 1.6", 
            "language": "python"
        }, 
        "language_info": {
            "version": "2.7.11", 
            "name": "python", 
            "mimetype": "text/x-python", 
            "pygments_lexer": "ipython2", 
            "codemirror_mode": {
                "version": 2, 
                "name": "ipython"
            }, 
            "file_extension": ".py", 
            "nbconvert_exporter": "python"
        }
    }, 
    "cells": [
        {
            "metadata": {}, 
            "cell_type": "markdown", 
            "source": "# Weather Station Clustering \n\n## DBSCAN using python & scikit-learn\u00b6"
        }, 
        {
            "metadata": {}, 
            "cell_type": "markdown", 
            "source": "### About the dataset\n\n\t\t\n<h4 align = \"center\">\nEnvironment Canada    \nMonthly Values for July - 2015\t\n</h4>\n<html>\n<head>\n<style>\ntable {\n    font-family: arial, sans-serif;\n    border-collapse: collapse;\n    width: 100%;\n}\n\ntd, th {\n    border: 1px solid #dddddd;\n    text-align: left;\n    padding: 8px;\n}\n\ntr:nth-child(even) {\n    background-color: #dddddd;\n}\n</style>\n</head>\n<body>\n\n<table>\n  <tr>\n    <th>Name in the table</th>\n    <th>Meaning</th>\n  </tr>\n  <tr>\n    <td><font color = \"green\"><strong>Stn_Name</font></td>\n    <td><font color = \"green\"><strong>Station Name</font</td>\n  </tr>\n  <tr>\n    <td><font color = \"green\"><strong>Lat</font></td>\n    <td><font color = \"green\"><strong>Latitude (North+, degrees)</font></td>\n  </tr>\n  <tr>\n    <td><font color = \"green\"><strong>Long</font></td>\n    <td><font color = \"green\"><strong>Longitude (West - , degrees)</font></td>\n  </tr>\n  <tr>\n    <td>Prov</td>\n    <td>Province</td>\n  </tr>\n  <tr>\n    <td>Tm</td>\n    <td>Mean Temperature (\u00b0C)</td>\n  </tr>\n  <tr>\n    <td>DwTm</td>\n    <td>Days without Valid Mean Temperature</td>\n  </tr>\n  <tr>\n    <td>D</td>\n    <td>Mean Temperature difference from Normal (1981-2010) (\u00b0C)</td>\n  </tr>\n  <tr>\n    <td><font color = \"black\">Tx</font></td>\n    <td><font color = \"black\">Highest Monthly Maximum Temperature (\u00b0C)</font></td>\n  </tr>\n  <tr>\n    <td>DwTx</td>\n    <td>Days without Valid Maximum Temperature</td>\n  </tr>\n  <tr>\n    <td><font color = \"black\">Tn</font></td>\n    <td><font color = \"black\">Lowest Monthly Minimum Temperature (\u00b0C)</font></td>\n  </tr>\n  <tr>\n    <td>DwTn</td>\n    <td>Days without Valid Minimum Temperature</td>\n  </tr>\n  <tr>\n    <td>S</td>\n    <td>Snowfall (cm)</td>\n  </tr>\n  <tr>\n    <td>DwS</td>\n    <td>Days without Valid Snowfall</td>\n  </tr>\n  <tr>\n    <td>S%N</td>\n    <td>Percent of Normal (1981-2010) Snowfall</td>\n  </tr>\n  <tr>\n    <td><font color = \"green\"><strong>P</font></td>\n    <td><font color = \"green\"><strong>Total Precipitation (mm)</font></td>\n  </tr>\n  <tr>\n    <td>DwP</td>\n    <td>Days without Valid Precipitation</td>\n  </tr>\n  <tr>\n    <td>P%N</td>\n    <td>Percent of Normal (1981-2010) Precipitation</td>\n  </tr>\n  <tr>\n    <td>S_G</td>\n    <td>Snow on the ground at the end of the month (cm)</td>\n  </tr>\n  <tr>\n    <td>Pd</td>\n    <td>Number of days with Precipitation 1.0 mm or more</td>\n  </tr>\n  <tr>\n    <td>BS</td>\n    <td>Bright Sunshine (hours)</td>\n  </tr>\n  <tr>\n    <td>DwBS</td>\n    <td>Days without Valid Bright Sunshine</td>\n  </tr>\n  <tr>\n    <td>BS%</td>\n    <td>Percent of Normal (1981-2010) Bright Sunshine</td>\n  </tr>\n  <tr>\n    <td>HDD</td>\n    <td>Degree Days below 18 \u00b0C</td>\n  </tr>\n  <tr>\n    <td>CDD</td>\n    <td>Degree Days above 18 \u00b0C</td>\n  </tr>\n  <tr>\n    <td>Stn_No</td>\n    <td>Climate station identifier (first 3 digits indicate   drainage basin, last 4 characters are for sorting alphabetically).</td>\n  </tr>\n  <tr>\n    <td>NA</td>\n    <td>Not Available</td>\n  </tr>\n\n\n</table>\n\n</body>\n</html>\n\n "
        }, 
        {
            "metadata": {}, 
            "cell_type": "markdown", 
            "source": "### 1-Download data into your Data Scientist Workbench"
        }, 
        {
            "metadata": {}, 
            "cell_type": "code", 
            "outputs": [], 
            "execution_count": null, 
            "source": "!wget -O weather-stations20140101-20141231.csv https://ibm.box.com/shared/static/mv6g5p1wpmpvzoz6e5zgo47t44q8dvm0.csv"
        }, 
        {
            "metadata": {}, 
            "cell_type": "markdown", 
            "source": "### 2- Load the dataset"
        }, 
        {
            "metadata": {}, 
            "cell_type": "code", 
            "outputs": [], 
            "execution_count": null, 
            "source": "import csv\nimport pandas as pd\nimport numpy as np\n\nfilename='weather-stations20140101-20141231.csv'\n\n#Read csv\npdf = pd.read_csv(filename)\npdf.head(5)"
        }, 
        {
            "metadata": {}, 
            "cell_type": "markdown", 
            "source": "### 3-Cleaning"
        }, 
        {
            "metadata": {}, 
            "cell_type": "code", 
            "outputs": [], 
            "execution_count": null, 
            "source": "pdf=pdf[pd.notnull(pdf[\"Tm\"])]\npdf = pdf.reset_index(drop=True)\npdf.head(5)"
        }, 
        {
            "metadata": {}, 
            "cell_type": "markdown", 
            "source": "### 4-Visualization"
        }, 
        {
            "metadata": {}, 
            "cell_type": "code", 
            "outputs": [], 
            "execution_count": null, 
            "source": "from mpl_toolkits.basemap import Basemap\nimport matplotlib.pyplot as plt\nfrom pylab import rcParams\n%matplotlib inline\nrcParams['figure.figsize'] = (14,10)\n\nllon=-140\nulon=-50\nllat=40\nulat=65\n\npdf = pdf[(pdf['Long'] > llon) & (pdf['Long'] < ulon) & (pdf['Lat'] > llat) &(pdf['Lat'] < ulat)]\n\nmy_map = Basemap(projection='merc',\n            resolution = 'l', area_thresh = 1000.0,\n            llcrnrlon=llon, llcrnrlat=llat, #min longitude (llcrnrlon) and latitude (llcrnrlat)\n            urcrnrlon=ulon, urcrnrlat=ulat) #max longitude (urcrnrlon) and latitude (urcrnrlat)\n\nmy_map.drawcoastlines()\nmy_map.drawcountries()\nmy_map.drawmapboundary()\nmy_map.fillcontinents(color = 'white', alpha = 0.3)\nmy_map.shadedrelief()\n\n# To collect data based on stations        \n\nxs,ys = my_map(np.asarray(pdf.Long), np.asarray(pdf.Lat))\npdf['xm']= xs.tolist()\npdf['ym'] =ys.tolist()\n\n#Visualization1\nfor index,row in pdf.iterrows():\n#   x,y = my_map(row.Long, row.Lat)\n   my_map.plot(row.xm, row.ym,markerfacecolor =([1,0,0]),  marker='o', markersize= 5, alpha = 0.75)\n#plt.text(x,y,stn)\nplt.show()\n\n"
        }, 
        {
            "metadata": {}, 
            "cell_type": "markdown", 
            "source": "### 5- Clustering of stations based on their location i.e. Lat & Lon"
        }, 
        {
            "metadata": {}, 
            "cell_type": "code", 
            "outputs": [], 
            "execution_count": null, 
            "source": "from sklearn.cluster import DBSCAN\nimport sklearn.utils\nfrom sklearn.preprocessing import StandardScaler\nsklearn.utils.check_random_state(1000)\nClus_dataSet = zip(np.asarray(pdf.xm),np.asarray(pdf.ym))\nClus_dataSet = np.nan_to_num(Clus_dataSet)\nClus_dataSet = StandardScaler().fit_transform(Clus_dataSet)\n\n# Compute DBSCAN\ndb = DBSCAN(eps=0.15, min_samples=10).fit(Clus_dataSet)\ncore_samples_mask = np.zeros_like(db.labels_, dtype=bool)\ncore_samples_mask[db.core_sample_indices_] = True\nlabels = db.labels_\npdf[\"Clus_Db\"]=labels\n\nrealClusterNum=len(set(labels)) - (1 if -1 in labels else 0)\nclusterNum = len(set(labels)) \n\n\n# A sample of clusters\npdf[[\"Stn_Name\",\"Tx\",\"Tm\",\"Clus_Db\"]].head(5)"
        }, 
        {
            "metadata": {}, 
            "cell_type": "code", 
            "outputs": [], 
            "execution_count": null, 
            "source": "set(labels)"
        }, 
        {
            "metadata": {}, 
            "cell_type": "code", 
            "outputs": [], 
            "execution_count": null, 
            "source": "labels[0:150]"
        }, 
        {
            "metadata": {}, 
            "cell_type": "markdown", 
            "source": "### 6- Visualization of clusters based on location"
        }, 
        {
            "metadata": {}, 
            "cell_type": "code", 
            "outputs": [], 
            "execution_count": null, 
            "source": "from mpl_toolkits.basemap import Basemap\nimport matplotlib.pyplot as plt\nfrom pylab import rcParams\n%matplotlib inline\nrcParams['figure.figsize'] = (14,10)\n\nmy_map = Basemap(projection='merc',\n            resolution = 'l', area_thresh = 1000.0,\n            llcrnrlon=llon, llcrnrlat=llat, #min longitude (llcrnrlon) and latitude (llcrnrlat)\n            urcrnrlon=ulon, urcrnrlat=ulat) #max longitude (urcrnrlon) and latitude (urcrnrlat)\n\nmy_map.drawcoastlines()\nmy_map.drawcountries()\nmy_map.drawmapboundary()\nmy_map.fillcontinents(color = 'white', alpha = 0.3)\nmy_map.shadedrelief()\n\n# To create a color map\ncolors = plt.get_cmap('jet')(np.linspace(0.0, 1.0, clusterNum))\n\n\n\n#Visualization1\nfor index,row in pdf.iterrows():\n    c=(([0.4,0.4,0.4]) if row.Clus_Db<0 else colors[np.int(row.Clus_Db)])\n    my_map.plot(row.xm, row.ym,markerfacecolor =c,  marker='o', markersize= 5, alpha = 0.75)\n\nfor i in range(realClusterNum): \n    cluster=pdf[[\"Stn_Name\",\"Tm\",\"xm\",\"ym\",\"Clus_Db\"]][pdf.Clus_Db==i]\n    cenx=np.mean(cluster.xm) \n    ceny=np.mean(cluster.ym) \n    plt.text(cenx,ceny,str(i), fontsize=25, color='red',)\n    print \"Cluster \"+str(i)+', Avg Temp: '+ str(np.mean(cluster.Tm))"
        }, 
        {
            "metadata": {}, 
            "cell_type": "markdown", 
            "source": "\n### 7- Clustering of stations based on their location and Temperature"
        }, 
        {
            "metadata": {
                "scrolled": true
            }, 
            "cell_type": "code", 
            "outputs": [], 
            "execution_count": null, 
            "source": "from sklearn.cluster import DBSCAN\nimport sklearn.utils\nfrom sklearn.preprocessing import StandardScaler\nsklearn.utils.check_random_state(1000)\nClus_dataSet = zip(np.asarray(pdf.xm),np.asarray(pdf.ym),np.asarray(pdf.Tx),np.asarray(pdf.Tn),np.asarray(pdf.Tm))\nClus_dataSet = np.nan_to_num(Clus_dataSet)\nClus_dataSet=StandardScaler().fit_transform(Clus_dataSet)\n\n# Compute DBSCAN\ndb = DBSCAN(eps=0.3, min_samples=10).fit(Clus_dataSet)\ncore_samples_mask = np.zeros_like(db.labels_, dtype=bool)\ncore_samples_mask[db.core_sample_indices_] = True\nlabels = db.labels_\npdf[\"Clus_Db\"]=labels\n\nrealClusterNum=len(set(labels)) - (1 if -1 in labels else 0)\nclusterNum = len(set(labels)) \n\n\n# A sample of clusters\npdf[[\"Stn_Name\",\"Tx\",\"Tm\",\"Clus_Db\"]].head(5)"
        }, 
        {
            "metadata": {}, 
            "cell_type": "markdown", 
            "source": "### 8- Visualization of clusters based on location and Temperture\n"
        }, 
        {
            "metadata": {}, 
            "cell_type": "code", 
            "outputs": [], 
            "execution_count": null, 
            "source": "from mpl_toolkits.basemap import Basemap\nimport matplotlib.pyplot as plt\nfrom pylab import rcParams\n%matplotlib inline\nrcParams['figure.figsize'] = (14,10)\n\nmy_map = Basemap(projection='merc',\n            resolution = 'l', area_thresh = 1000.0,\n            llcrnrlon=llon, llcrnrlat=llat, #min longitude (llcrnrlon) and latitude (llcrnrlat)\n            urcrnrlon=ulon, urcrnrlat=ulat) #max longitude (urcrnrlon) and latitude (urcrnrlat)\n\nmy_map.drawcoastlines()\nmy_map.drawcountries()\nmy_map.drawmapboundary()\nmy_map.fillcontinents(color = 'white', alpha = 0.3)\nmy_map.shadedrelief()\n\n# To create a color map\ncolors = plt.get_cmap('jet')(np.linspace(0.0, 1.0, clusterNum))\n\n\n\n#Visualization1\nfor index,row in pdf.iterrows():\n    c=(([0.4,0.4,0.4]) if row.Clus_Db<0 else colors[np.int(row.Clus_Db)])\n    my_map.plot(row.xm, row.ym,markerfacecolor =c,  marker='o', markersize= 5, alpha = 0.75)\n\nfor i in range(realClusterNum): \n    cluster=pdf[[\"Stn_Name\",\"Tm\",\"xm\",\"ym\",\"Clus_Db\"]][pdf.Clus_Db==i]\n    cenx=np.mean(cluster.xm) \n    ceny=np.mean(cluster.ym) \n    plt.text(cenx,ceny,str(i), fontsize=25, color='red',)\n    print \"Cluster \"+str(i)+', Avg Temp: '+ str(np.mean(cluster.Tm))"
        }, 
        {
            "metadata": {
                "collapsed": true
            }, 
            "cell_type": "markdown", 
            "source": "## Want to learn more?\n\nIBM SPSS Modeler is a comprehensive analytics platform that has many machine learning algorithms. It has been designed to bring predictive intelligence to decisions made by individuals, by groups, by systems \u2013 by your enterprise as a whole. A free trial is available through this course, available here: [SPSS Modeler for Mac users](https://cocl.us/ML0101EN_SPSSMod_mac) and [SPSS Modeler for Windows users](https://cocl.us/ML0101EN_SPSSMod_win)\n\nAlso, you can use Data Science Experience to run these notebooks faster with bigger datasets. Data Science Experience is IBM's leading cloud solution for data scientists, built by data scientists. With Jupyter notebooks, RStudio, Apache Spark and popular libraries pre-packaged in the cloud, DSX enables data scientists to collaborate on their projects without having to install anything. Join the fast-growing community of DSX users today with a free account at [Data Science Experience](https://cocl.us/ML0101EN_DSX)"
        }, 
        {
            "metadata": {}, 
            "cell_type": "markdown", 
            "source": "### Thanks for completing this lesson!\n\nNotebook created by: <a href = \"https://ca.linkedin.com/in/saeedaghabozorgi\">Saeed Aghabozorgi</a>"
        }, 
        {
            "metadata": {}, 
            "cell_type": "markdown", 
            "source": "<hr>\nCopyright &copy; 2016 [Cognitive Class](https://cognitiveClass.ai/?utm_source=bducopyrightlink&utm_medium=dswb&utm_campaign=bdu). This notebook and its source code are released under the terms of the [MIT License](https://bigdatauniversity.com/mit-license/)."
        }
    ], 
    "nbformat_minor": 1, 
    "nbformat": 4
}