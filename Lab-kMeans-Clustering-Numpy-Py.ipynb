{
    "metadata": {
        "kernelspec": {
            "name": "python2", 
            "display_name": "Python 2 with Spark 1.6", 
            "language": "python"
        }, 
        "language_info": {
            "version": "2.7.11", 
            "name": "python", 
            "mimetype": "text/x-python", 
            "pygments_lexer": "ipython2", 
            "codemirror_mode": {
                "version": 2, 
                "name": "ipython"
            }, 
            "file_extension": ".py", 
            "nbconvert_exporter": "python"
        }
    }, 
    "cells": [
        {
            "metadata": {}, 
            "cell_type": "markdown", 
            "source": "<img src = https://ibm.box.com/shared/static/ugcqz6ohbvff804xp84y4kqnvvk3bq1g.png width = 200>\n<h1 align=center> k-means Clustering using Numpy </h1>\n<hr>"
        }, 
        {
            "metadata": {}, 
            "cell_type": "markdown", 
            "source": "#### Initialize the environment and import the required modules"
        }, 
        {
            "metadata": {
                "collapsed": true
            }, 
            "cell_type": "code", 
            "outputs": [], 
            "execution_count": null, 
            "source": "%matplotlib inline\n\nimport numpy as np\nimport matplotlib.pyplot as plt"
        }, 
        {
            "metadata": {}, 
            "cell_type": "markdown", 
            "source": "#### Define `shouldStop` as a function that returns:\n- `True`, if there have been more than 10 iterations\n- `True`, if the newly assigned centroids are in the same position as the old centroids\n- otherwise it returns `False`"
        }, 
        {
            "metadata": {
                "collapsed": true
            }, 
            "cell_type": "code", 
            "outputs": [], 
            "execution_count": null, 
            "source": "def shouldStop(oldCentroids, centroids, iterations):\n    if iterations > 10: return True\n    return (centroids==oldCentroids).all()"
        }, 
        {
            "metadata": {}, 
            "cell_type": "markdown", 
            "source": "#### Define `distEuclid` as a function that returns:\n- the Euclidean distance between two vectors, `vecA` and `vecB`"
        }, 
        {
            "metadata": {
                "collapsed": true
            }, 
            "cell_type": "code", 
            "outputs": [], 
            "execution_count": null, 
            "source": "def distEuclid(vecA, vecB):\n    return np.sqrt(sum(np.power(vecA - vecB, 2))) "
        }, 
        {
            "metadata": {}, 
            "cell_type": "markdown", 
            "source": "#### Define `getLabels\" as a function that assigns labels to each datapoint based on centroids"
        }, 
        {
            "metadata": {
                "collapsed": true
            }, 
            "cell_type": "code", 
            "outputs": [], 
            "execution_count": null, 
            "source": "def getLabels(dataSet, centroids):\n    m = dataSet.shape[0];k = centroids.shape[0]\n    clusterAssment=np.empty([m,2])\n    for i in range(m):\n        minDist = float('inf')\n        minIndex = -1\n        for j in range(k):\n            distJI = distEuclid(centroids[j,:],dataSet[i,:])\n            if distJI < minDist:\n                minDist = distJI; minIndex = j\n        clusterAssment[i,:] = minIndex,minDist**2\n    return clusterAssment"
        }, 
        {
            "metadata": {}, 
            "cell_type": "markdown", 
            "source": "#### Define `getCentroids` as a function that recalculates (moves) centroids' positions"
        }, 
        {
            "metadata": {
                "collapsed": true
            }, 
            "cell_type": "code", 
            "outputs": [], 
            "execution_count": null, 
            "source": "def getCentroids(dataSet, labels, k):    \n    for cent in range(k):\n        ptsInClust = dataSet[np.nonzero(labels[:,0]==cent)[0]]#get all the point in this cluster\n        centroids[cent,:] = np.mean(ptsInClust, axis=0) #move centroid to mean \n    return centroids"
        }, 
        {
            "metadata": {}, 
            "cell_type": "markdown", 
            "source": "#### Read in data and convert into np"
        }, 
        {
            "metadata": {}, 
            "cell_type": "code", 
            "outputs": [], 
            "execution_count": null, 
            "source": "!wget -O data2d.csv https://ibm.box.com/shared/static/nbin9unisgcfmxk9ig31af24p7te0teg.csv"
        }, 
        {
            "metadata": {
                "collapsed": true
            }, 
            "cell_type": "code", 
            "outputs": [], 
            "execution_count": null, 
            "source": "dataFile=[]\nwith open(\"data2d.csv\") as inputfile:\n    for line in inputfile:\n        words = line.strip().split(',')\n        dataFile.append(words)\ndataSet=np.asarray(dataFile, dtype = float)  \n"
        }, 
        {
            "metadata": {}, 
            "cell_type": "markdown", 
            "source": "#### Initialize centroids at random locations:"
        }, 
        {
            "metadata": {}, 
            "cell_type": "code", 
            "outputs": [], 
            "execution_count": null, 
            "source": "centroids = np.asarray([[8., 1.], [5., 2.], [6., 3.]])    #original\n\nplt.figure(1)\nplt.clf()\nplt.scatter(dataSet[:, 0], dataSet[:, 1],alpha=0.5)\nplt.scatter(centroids[:, 0], centroids[:, 1],s=50, c=u'r', marker=u's')\nplt.show()"
        }, 
        {
            "metadata": {}, 
            "cell_type": "markdown", 
            "source": "#### Initialize some variables:"
        }, 
        {
            "metadata": {
                "collapsed": true
            }, 
            "cell_type": "code", 
            "outputs": [], 
            "execution_count": null, 
            "source": "numFeatures = 2\nk=3\niterations = 0\noldCentroids = np.empty([k,numFeatures])"
        }, 
        {
            "metadata": {}, 
            "cell_type": "markdown", 
            "source": "#### Run the main k-means algorithm:"
        }, 
        {
            "metadata": {
                "scrolled": false
            }, 
            "cell_type": "code", 
            "outputs": [], 
            "execution_count": null, 
            "source": "while not shouldStop(oldCentroids, centroids, iterations):\n    print(iterations)\n    oldCentroids = centroids.copy() # Save old centroids for convergence test.\n    iterations += 1\n    \n    # Assign labels to each datapoint based on centroids\n    labels = getLabels(dataSet, centroids)\n    centroids = getCentroids(dataSet, labels, k)\n    print(labels[:,0]);    print(centroids)\n    plt.figure(1)\n    plt.clf()\n    plt.scatter(dataSet[:, 0], dataSet[:, 1], c=labels[:,0],alpha=0.5)\n    plt.scatter(centroids[:, 0], centroids[:, 1],s=50, c=u'r', marker=u's')\n    plt.show()"
        }, 
        {
            "metadata": {}, 
            "cell_type": "markdown", 
            "source": "#### Visualize the final results"
        }, 
        {
            "metadata": {}, 
            "cell_type": "code", 
            "outputs": [], 
            "execution_count": null, 
            "source": "print(labels[:,0])\n\nfig = plt.figure(1)\nplt.clf()\nplt.scatter(dataSet[:, 0], dataSet[:, 1], c=labels[:,0],alpha=0.5)\nplt.scatter(centroids[:, 0], centroids[:, 1],s=50, c=u'r', marker=u's')\nplt.show()"
        }, 
        {
            "metadata": {
                "collapsed": true
            }, 
            "cell_type": "markdown", 
            "source": "## Want to learn more?\n\nIBM SPSS Modeler is a comprehensive analytics platform that has many machine learning algorithms. It has been designed to bring predictive intelligence to decisions made by individuals, by groups, by systems \u2013 by your enterprise as a whole. A free trial is available through this course, available here: [SPSS Modeler for Mac users](https://cocl.us/ML0101EN_SPSSMod_mac) and [SPSS Modeler for Windows users](https://cocl.us/ML0101EN_SPSSMod_win)\n\nAlso, you can use Data Science Experience to run these notebooks faster with bigger datasets. Data Science Experience is IBM's leading cloud solution for data scientists, built by data scientists. With Jupyter notebooks, RStudio, Apache Spark and popular libraries pre-packaged in the cloud, DSX enables data scientists to collaborate on their projects without having to install anything. Join the fast-growing community of DSX users today with a free account at [Data Science Experience](https://cocl.us/ML0101EN_DSX)"
        }, 
        {
            "metadata": {}, 
            "cell_type": "markdown", 
            "source": "### Thanks for completing this lesson!\n\nNotebook created by: <a href = \"https://ca.linkedin.com/in/saeedaghabozorgi\">Saeed Aghabozorgi</a>"
        }, 
        {
            "metadata": {}, 
            "cell_type": "markdown", 
            "source": "<hr>\nCopyright &copy; 2016 [Cognitive Class](https://cognitiveClass.ai/?utm_source=bducopyrightlink&utm_medium=dswb&utm_campaign=bdu). This notebook and its source code are released under the terms of the [MIT License](https://bigdatauniversity.com/mit-license/)."
        }
    ], 
    "nbformat_minor": 1, 
    "nbformat": 4
}