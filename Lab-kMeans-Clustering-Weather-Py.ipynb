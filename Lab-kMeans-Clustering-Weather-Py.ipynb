{
    "metadata": {
        "language_info": {
            "version": "2.7.11", 
            "name": "python", 
            "mimetype": "text/x-python", 
            "pygments_lexer": "ipython2", 
            "codemirror_mode": {
                "version": 2, 
                "name": "ipython"
            }, 
            "file_extension": ".py", 
            "nbconvert_exporter": "python"
        }, 
        "kernelspec": {
            "name": "python2", 
            "display_name": "Python 2 with Spark 1.6", 
            "language": "python"
        }, 
        "widgets": {
            "version": "1.1.2", 
            "state": {}
        }
    }, 
    "cells": [
        {
            "metadata": {
                "button": false, 
                "run_control": {
                    "read_only": false
                }
            }, 
            "cell_type": "markdown", 
            "source": "# Weather Station Clustering \n\n## K-means using python & scikit-learn\u00b6\n"
        }, 
        {
            "metadata": {
                "button": false, 
                "run_control": {
                    "read_only": false
                }
            }, 
            "cell_type": "markdown", 
            "source": "### About the dataset\n\n\t\t\n<h4 align = \"center\">\nEnvironment Canada    \nMonthly Values for July - 2015\t\n</h4>\n<html>\n<head>\n<style>\ntable {\n    font-family: arial, sans-serif;\n    border-collapse: collapse;\n    width: 100%;\n}\n\ntd, th {\n    border: 1px solid #dddddd;\n    text-align: left;\n    padding: 8px;\n}\n\ntr:nth-child(even) {\n    background-color: #dddddd;\n}\n</style>\n</head>\n<body>\n\n<table>\n  <tr>\n    <th>Name in the table</th>\n    <th>Meaning</th>\n  </tr>\n  <tr>\n    <td><font color = \"green\"><strong>Stn_Name</font></td>\n    <td><font color = \"green\"><strong>Station Name</font</td>\n  </tr>\n  <tr>\n    <td><font color = \"green\"><strong>Lat</font></td>\n    <td><font color = \"green\"><strong>Latitude (North+, degrees)</font></td>\n  </tr>\n  <tr>\n    <td><font color = \"green\"><strong>Long</font></td>\n    <td><font color = \"green\"><strong>Longitude (West - , degrees)</font></td>\n  </tr>\n  <tr>\n    <td>Prov</td>\n    <td>Province</td>\n  </tr>\n  <tr>\n    <td>Tm</td>\n    <td>Mean Temperature (\u00b0C)</td>\n  </tr>\n  <tr>\n    <td>DwTm</td>\n    <td>Days without Valid Mean Temperature</td>\n  </tr>\n  <tr>\n    <td>D</td>\n    <td>Mean Temperature difference from Normal (1981-2010) (\u00b0C)</td>\n  </tr>\n  <tr>\n    <td><font color = \"black\">Tx</font></td>\n    <td><font color = \"black\">Highest Monthly Maximum Temperature (\u00b0C)</font></td>\n  </tr>\n  <tr>\n    <td>DwTx</td>\n    <td>Days without Valid Maximum Temperature</td>\n  </tr>\n  <tr>\n    <td><font color = \"black\">Tn</font></td>\n    <td><font color = \"black\">Lowest Monthly Minimum Temperature (\u00b0C)</font></td>\n  </tr>\n  <tr>\n    <td>DwTn</td>\n    <td>Days without Valid Minimum Temperature</td>\n  </tr>\n  <tr>\n    <td>S</td>\n    <td>Snowfall (cm)</td>\n  </tr>\n  <tr>\n    <td>DwS</td>\n    <td>Days without Valid Snowfall</td>\n  </tr>\n  <tr>\n    <td>S%N</td>\n    <td>Percent of Normal (1981-2010) Snowfall</td>\n  </tr>\n  <tr>\n    <td><font color = \"green\"><strong>P</font></td>\n    <td><font color = \"green\"><strong>Total Precipitation (mm)</font></td>\n  </tr>\n  <tr>\n    <td>DwP</td>\n    <td>Days without Valid Precipitation</td>\n  </tr>\n  <tr>\n    <td>P%N</td>\n    <td>Percent of Normal (1981-2010) Precipitation</td>\n  </tr>\n  <tr>\n    <td>S_G</td>\n    <td>Snow on the ground at the end of the month (cm)</td>\n  </tr>\n  <tr>\n    <td>Pd</td>\n    <td>Number of days with Precipitation 1.0 mm or more</td>\n  </tr>\n  <tr>\n    <td>BS</td>\n    <td>Bright Sunshine (hours)</td>\n  </tr>\n  <tr>\n    <td>DwBS</td>\n    <td>Days without Valid Bright Sunshine</td>\n  </tr>\n  <tr>\n    <td>BS%</td>\n    <td>Percent of Normal (1981-2010) Bright Sunshine</td>\n  </tr>\n  <tr>\n    <td>HDD</td>\n    <td>Degree Days below 18 \u00b0C</td>\n  </tr>\n  <tr>\n    <td>CDD</td>\n    <td>Degree Days above 18 \u00b0C</td>\n  </tr>\n  <tr>\n    <td>Stn_No</td>\n    <td>Climate station identifier (first 3 digits indicate   drainage basin, last 4 characters are for sorting alphabetically).</td>\n  </tr>\n  <tr>\n    <td>NA</td>\n    <td>Not Available</td>\n  </tr>\n\n\n</table>\n\n</body>\n</html>\n\n"
        }, 
        {
            "metadata": {
                "button": false, 
                "run_control": {
                    "read_only": false
                }
            }, 
            "cell_type": "markdown", 
            "source": "### 1-Download Data"
        }, 
        {
            "metadata": {
                "button": false, 
                "run_control": {
                    "read_only": false
                }
            }, 
            "cell_type": "code", 
            "outputs": [], 
            "execution_count": null, 
            "source": "!wget -O weather-stations20140101-20141231.csv https://ibm.box.com/shared/static/mv6g5p1wpmpvzoz6e5zgo47t44q8dvm0.csv"
        }, 
        {
            "metadata": {
                "button": false, 
                "run_control": {
                    "read_only": false
                }
            }, 
            "cell_type": "markdown", 
            "source": "### 2- Load data"
        }, 
        {
            "metadata": {
                "button": false, 
                "run_control": {
                    "read_only": false
                }
            }, 
            "cell_type": "code", 
            "outputs": [], 
            "execution_count": null, 
            "source": "import csv\nimport pandas as pd\nimport numpy as np\n\nfilename='weather-stations20140101-20141231.csv'\n\n#Read csv\npdf = pd.read_csv(filename)\npdf.head(5)"
        }, 
        {
            "metadata": {
                "button": false, 
                "run_control": {
                    "read_only": false
                }
            }, 
            "cell_type": "markdown", 
            "source": "### 3- Clean data"
        }, 
        {
            "metadata": {
                "button": false, 
                "run_control": {
                    "read_only": false
                }
            }, 
            "cell_type": "code", 
            "outputs": [], 
            "execution_count": null, 
            "source": "pdf = pdf[pd.notnull(pdf[\"Tm\"])]\npdf = pdf.reset_index(drop=True)\npdf.head(5)"
        }, 
        {
            "metadata": {
                "button": false, 
                "run_control": {
                    "read_only": false
                }
            }, 
            "cell_type": "markdown", 
            "source": "### 4- Visualization of data"
        }, 
        {
            "metadata": {
                "button": false, 
                "run_control": {
                    "read_only": false
                }
            }, 
            "cell_type": "code", 
            "outputs": [], 
            "execution_count": null, 
            "source": "from mpl_toolkits.basemap import Basemap\nimport matplotlib.pyplot as plt\nfrom pylab import rcParams\n%matplotlib inline\nrcParams['figure.figsize'] = (14,10)\n\nllon = -140\nulon = -50\nllat = 40\nulat = 65\n\npdf = pdf[(pdf['Long'] > llon) & (pdf['Long'] < ulon) & (pdf['Lat'] > llat) &(pdf['Lat'] < ulat)]\n\nmy_map = Basemap(projection='merc',\n            resolution = 'l', area_thresh = 1000.0,\n            llcrnrlon=llon, llcrnrlat=llat, #min longitude (llcrnrlon) and latitude (llcrnrlat)\n            urcrnrlon=ulon, urcrnrlat=ulat) #max longitude (urcrnrlon) and latitude (urcrnrlat)\n\nmy_map.drawcoastlines()\nmy_map.drawcountries()\nmy_map.drawmapboundary()\nmy_map.fillcontinents(color = 'white', alpha = 0.3)\nmy_map.shadedrelief()\n\n# To collect data based on stations        \n\nxs,ys = my_map(np.asarray(pdf.Long), np.asarray(pdf.Lat))\npdf['xm'] = xs.tolist()\npdf['ym'] =ys.tolist()\n\n#Visualization1\nfor index,row in pdf.iterrows():\n#   x,y = my_map(row.Long, row.Lat)\n   my_map.plot(row.xm, row.ym,markerfacecolor =([1,0,0]),  marker='o', markersize= 5, alpha = 0.75)\n#plt.text(x,y,stn)\nplt.show()\n\n"
        }, 
        {
            "metadata": {
                "button": false, 
                "run_control": {
                    "read_only": false
                }
            }, 
            "cell_type": "markdown", 
            "source": "### 5-Clustering based on location"
        }, 
        {
            "metadata": {
                "button": false, 
                "run_control": {
                    "read_only": false
                }
            }, 
            "cell_type": "code", 
            "outputs": [], 
            "execution_count": null, 
            "source": "from sklearn.cluster import KMeans\nimport sklearn.utils\nfrom sklearn.preprocessing import StandardScaler\nclusterNum = 7\nsklearn.utils.check_random_state(1000)\n\nClus_dataSet = zip(np.asarray(pdf.xm),np.asarray(pdf.ym)) #location\nClus_dataSet = np.nan_to_num(Clus_dataSet)\nClus_dataSet=StandardScaler().fit_transform(Clus_dataSet)\nest = KMeans(n_clusters=clusterNum)\nest.fit(Clus_dataSet)\nlabels = est.labels_\npdf[\"Clus_km\"] = labels\n\n# A sample of clusters\npdf[[\"Stn_Name\",\"xm\",\"ym\",\"Tx\",\"Tm\",\"Clus_km\"]].head(5)"
        }, 
        {
            "metadata": {
                "button": false, 
                "run_control": {
                    "read_only": false
                }
            }, 
            "cell_type": "markdown", 
            "source": "### 6- Visualize the clusters"
        }, 
        {
            "metadata": {
                "button": false, 
                "run_control": {
                    "read_only": false
                }
            }, 
            "cell_type": "code", 
            "outputs": [], 
            "execution_count": null, 
            "source": "from mpl_toolkits.basemap import Basemap\nimport matplotlib.pyplot as plt\nfrom pylab import rcParams\n%matplotlib inline\nrcParams['figure.figsize'] = (14,10)\n\nmy_map = Basemap(projection='merc',\n            resolution = 'l', area_thresh = 1000.0,\n            llcrnrlon=llon, llcrnrlat=llat, #min longitude (llcrnrlon) and latitude (llcrnrlat)\n            urcrnrlon=ulon, urcrnrlat=ulat) #max longitude (urcrnrlon) and latitude (urcrnrlat)\n\nmy_map.drawcoastlines()\nmy_map.drawcountries()\nmy_map.drawmapboundary()\nmy_map.fillcontinents(color = 'white', alpha = 0.3)\nmy_map.shadedrelief()\n\n# To create a color map\ncolors = plt.get_cmap('jet')(np.linspace(0.0, 1.0, clusterNum))\n\n#Visualization1\nfor index,row in pdf.iterrows():\n    my_map.plot(row.xm, row.ym,markerfacecolor =colors[np.int(row.Clus_km)],  marker='o', markersize= 5, alpha = 0.75)\n\nfor i in range(clusterNum): \n    cluster = pdf[[\"Stn_Name\",\"Tm\",\"xm\",\"ym\",\"Clus_km\"]][pdf.Clus_km==i]\n    cenx = np.mean(cluster.xm) \n    ceny = np.mean(cluster.ym) \n    plt.text(cenx,ceny,str(i), fontsize=25, color='red',)\n    print \"Cluster \"+str(i)+', Avg Temp: '+ str(np.mean(cluster.Tm))"
        }, 
        {
            "metadata": {}, 
            "cell_type": "markdown", 
            "source": "### 7-Clustering based on Location and Temperature"
        }, 
        {
            "metadata": {
                "button": false, 
                "run_control": {
                    "read_only": false
                }
            }, 
            "cell_type": "code", 
            "outputs": [], 
            "execution_count": null, 
            "source": "from sklearn.cluster import KMeans\nimport sklearn.utils\nfrom sklearn.preprocessing import StandardScaler\nclusterNum = 7\nsklearn.utils.check_random_state(1000)\n\nClus_dataSet = zip(np.asarray(pdf.xm),np.asarray(pdf.ym),np.asarray(pdf.Tx),np.asarray(pdf.Tn),np.asarray(pdf.Tm))\nClus_dataSet = np.nan_to_num(Clus_dataSet)\nClus_dataSet=StandardScaler().fit_transform(Clus_dataSet)\nest = KMeans(n_clusters=clusterNum)\nest.fit(Clus_dataSet)\nlabels = est.labels_\npdf[\"Clus_km\"]=labels\n\n# A sample of clusters\npdf[[\"Stn_Name\",\"xm\",\"ym\",\"Tx\",\"Tm\",\"Clus_km\"]].head(5)"
        }, 
        {
            "metadata": {
                "scrolled": false, 
                "button": false, 
                "run_control": {
                    "read_only": false
                }
            }, 
            "cell_type": "code", 
            "outputs": [], 
            "execution_count": null, 
            "source": "from mpl_toolkits.basemap import Basemap\nimport matplotlib.pyplot as plt\nfrom pylab import rcParams\n%matplotlib inline\nrcParams['figure.figsize'] = (14,10)\n\nmy_map = Basemap(projection='merc',\n            resolution = 'l', area_thresh = 1000.0,\n            llcrnrlon=llon, llcrnrlat=llat, #min longitude (llcrnrlon) and latitude (llcrnrlat)\n            urcrnrlon=ulon, urcrnrlat=ulat) #max longitude (urcrnrlon) and latitude (urcrnrlat)\n\nmy_map.drawcoastlines()\nmy_map.drawcountries()\nmy_map.drawmapboundary()\nmy_map.fillcontinents(color = 'white', alpha = 0.3)\nmy_map.shadedrelief()\n\n# To create a color map\ncolors = plt.get_cmap('jet')(np.linspace(0.0, 1.0, clusterNum))\n\n#Visualization1\nfor index,row in pdf.iterrows():\n    my_map.plot(row.xm, row.ym,markerfacecolor =colors[np.int(row.Clus_km)],  marker='o', markersize= 5, alpha = 0.75)\n\nfor i in range(clusterNum): \n    cluster = pdf[[\"Stn_Name\",\"Tm\",\"xm\",\"ym\",\"Clus_km\"]][pdf.Clus_km==i]\n    cenx=np.mean(cluster.xm) \n    ceny=np.mean(cluster.ym) \n    plt.text(cenx,ceny,str(i), fontsize=25, color='red',)\n    print \"Cluster \"+str(i)+', Avg Temp: '+ str(np.mean(cluster.Tm))"
        }, 
        {
            "metadata": {}, 
            "cell_type": "markdown", 
            "source": "## Want to learn more?\n\nIBM SPSS Modeler is a comprehensive analytics platform that has many machine learning algorithms. It has been designed to bring predictive intelligence to decisions made by individuals, by groups, by systems \u2013 by your enterprise as a whole. A free trial is available through this course, available here: [SPSS Modeler for Mac users](https://cocl.us/ML0101EN_SPSSMod_mac) and [SPSS Modeler for Windows users](https://cocl.us/ML0101EN_SPSSMod_win)\n\nAlso, you can use Data Science Experience to run these notebooks faster with bigger datasets. Data Science Experience is IBM's leading cloud solution for data scientists, built by data scientists. With Jupyter notebooks, RStudio, Apache Spark and popular libraries pre-packaged in the cloud, DSX enables data scientists to collaborate on their projects without having to install anything. Join the fast-growing community of DSX users today with a free account at [Data Science Experience](https://cocl.us/ML0101EN_DSX)"
        }, 
        {
            "metadata": {}, 
            "cell_type": "markdown", 
            "source": "### Thanks for completing this lesson!\n\nNotebook created by: <a href = \"https://ca.linkedin.com/in/saeedaghabozorgi\">Saeed Aghabozorgi</a>"
        }, 
        {
            "metadata": {}, 
            "cell_type": "markdown", 
            "source": "<hr>\nCopyright &copy; 2016 [Cognitive Class](https://cognitiveClass.ai/?utm_source=bducopyrightlink&utm_medium=dswb&utm_campaign=bdu). This notebook and its source code are released under the terms of the [MIT License](https://bigdatauniversity.com/mit-license/)."
        }, 
        {
            "metadata": {
                "collapsed": true
            }, 
            "cell_type": "code", 
            "outputs": [], 
            "execution_count": null, 
            "source": ""
        }
    ], 
    "nbformat_minor": 1, 
    "nbformat": 4
}